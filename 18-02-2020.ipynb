{
 "cells": [
  {
   "cell_type": "code",
   "execution_count": null,
   "metadata": {},
   "outputs": [],
   "source": [
    "App1cat88ca9tion -- 1889"
   ]
  },
  {
   "cell_type": "code",
   "execution_count": null,
   "metadata": {},
   "outputs": [],
   "source": [
    "#include<stdio.h>\n",
    "#include<string.h>\n",
    "int main(){\n",
    "\tint len=0,i,uCnt=0,lCnt=0;\n",
    "\tchar x[100];\n",
    "\tscanf(\"%s\",x);\n",
    "\tlen = strlen(x);\n",
    "\tfor(i=0;i<len;i++){\n",
    "\t\tif(x[i]>=48 && x[i]<=57){\n",
    "\t\t\tprintf(\"%c\",x[i]);\n",
    "\t\t}\n",
    "\t}\n",
    "\treturn 0;\n",
    "}"
   ]
  },
  {
   "cell_type": "code",
   "execution_count": null,
   "metadata": {},
   "outputs": [],
   "source": [
    "App1cat88ca9tion -- 16"
   ]
  },
  {
   "cell_type": "code",
   "execution_count": null,
   "metadata": {},
   "outputs": [],
   "source": [
    "#include<stdio.h>\n",
    "#include<string.h>\n",
    "int main(){\n",
    "\tint len=0,i,k,sum=0;\n",
    "\tchar x[100];\n",
    "\tscanf(\"%s\",x);\n",
    "\tlen = strlen(x);\n",
    "\tfor(i=0;i<len;i++){\n",
    "\t\tif(x[i]>=48 && x[i]<=57){\n",
    "\t\t\tk = x[i] - 48;//ASCII to Decimal\n",
    "\t\t\tif(k%2==0){\n",
    "\t\t\t\tsum += k;\n",
    "\t\t\t}\n",
    "\t\t}\n",
    "\t}\n",
    "\tprintf(\"%d\",sum);\n",
    "\treturn 0;\n",
    "}"
   ]
  },
  {
   "cell_type": "code",
   "execution_count": null,
   "metadata": {},
   "outputs": [],
   "source": [
    "orange -- puboif"
   ]
  },
  {
   "cell_type": "code",
   "execution_count": null,
   "metadata": {},
   "outputs": [],
   "source": [
    "#include<stdio.h>\n",
    "#include<string.h>\n",
    "int main(){\n",
    "\tint len,i;\n",
    "\tchar x[100];\n",
    "\tscanf(\"%s\",x);\n",
    "\tlen = strlen(x);\n",
    "\tfor(i=0;i<len;i++){\n",
    "\t\t//a e i o u\n",
    "\t\tif(x[i]=='a'|| x[i]=='e'||x[i]=='i'||x[i]=='o'||x[i]=='u')\n",
    "\t\t{\n",
    "\t\t\tprintf(\"%c\",x[i]+1);\n",
    "\t\t}\n",
    "\t\telse if(x[i]>='b'&&x[i]<='d'){\n",
    "\t\t\tprintf(\"e\");\n",
    "\t\t}\n",
    "\t\telse if(x[i]>='f'&&x[i]<='h'){\n",
    "\t\t\tprintf(\"i\");\n",
    "\t\t}\n",
    "\t\telse if(x[i]>='j'&&x[i]<='n'){\n",
    "\t\t\tprintf(\"o\");\n",
    "\t\t}\n",
    "\t\telse if(x[i]>='p'&&x[i]<='t'){\n",
    "\t\t\tprintf(\"u\");\n",
    "\t\t}\n",
    "\t\telse if(x[i]>='v'&&x[i]<='z'){\n",
    "\t\t\tprintf(\"a\");\n",
    "\t\t}\n",
    "\t}\n",
    "\treturn 0;\n",
    "}"
   ]
  },
  {
   "cell_type": "code",
   "execution_count": null,
   "metadata": {},
   "outputs": [],
   "source": [
    "abc xyz -- axbycz\n",
    "   abcd xy -- axbycd\n",
    "   ab xyzs -- axbyzs"
   ]
  },
  {
   "cell_type": "code",
   "execution_count": null,
   "metadata": {},
   "outputs": [],
   "source": [
    "#include<stdio.h>\n",
    "#include<string.h>\n",
    "int main(){\n",
    "\tint len1,len2,i;\n",
    "\tchar s1[100],s2[100];\n",
    "\tscanf(\"%s%s\",s1,s2);\n",
    "\tlen1 = strlen(s1);\n",
    "\tlen2 = strlen(s2);\n",
    "\tif(len1==len2){\n",
    "\t\tfor(i=0;i<len1;i++){\n",
    "\t\t\tprintf(\"%c%c\",s1[i],s2[i]);\n",
    "\t\t}\n",
    "\t}\n",
    "\telse if(len1>len2){\n",
    "\t\tfor(i=0;i<len2;i++){\n",
    "\t\t\tprintf(\"%c%c\",s1[i],s2[i]);\n",
    "\t\t}\n",
    "\t\tfor(i=len2;i<len1;i++){\n",
    "\t\t\tprintf(\"%c\",s1[i]);\n",
    "\t\t}\n",
    "\t}\n",
    "\telse if(len2>len1){\n",
    "\t\tfor(i=0;i<len1;i++){\n",
    "\t\t\tprintf(\"%c%c\",s1[i],s2[i]);\n",
    "\t\t}\n",
    "\t\tfor(i=len1;i<len2;i++){\n",
    "\t\t\tprintf(\"%c\",s1[i]);\n",
    "\t\t}\n",
    "\t}\n",
    "\treturn 0;\n",
    "}"
   ]
  },
  {
   "cell_type": "code",
   "execution_count": null,
   "metadata": {},
   "outputs": [],
   "source": [
    "mango eat -- me\n",
    " \t\t\t\taa\n",
    " \t\t\t\tnt\n",
    " \t\t\t\tg*\n",
    " \t\t\t\to*\n",
    " \teat mango -- em\n",
    " \t\t\t\t aa\n",
    " \t\t\t\t tn\n",
    " \t\t\t\t *g\n",
    " \t\t\t\t *o"
   ]
  },
  {
   "cell_type": "code",
   "execution_count": null,
   "metadata": {},
   "outputs": [],
   "source": [
    "#include<stdio.h>\n",
    "#include<string.h>\n",
    "int main(){\n",
    "\tint len1,len2,i;\n",
    "\tchar s1[100],s2[100];\n",
    "\tscanf(\"%s%s\",s1,s2);\n",
    "\tlen1 = strlen(s1);\n",
    "\tlen2 = strlen(s2);\n",
    "\tif(len1==len2){\n",
    "\t\tfor(i=0;i<len1;i++){\n",
    "\t\t\tprintf(\"%c%c\\n\",s1[i],s2[i]);\n",
    "\t\t}\n",
    "\t}\n",
    "\telse if(len1>len2){\n",
    "\t\tfor(i=0;i<len2;i++){\n",
    "\t\t\tprintf(\"%c%c\\n\",s1[i],s2[i]);\n",
    "\t\t}\n",
    "\t\tfor(i=len2;i<len1;i++){\n",
    "\t\t\tprintf(\"%c*\\n\",s1[i]);\n",
    "\t\t}\n",
    "\t}\n",
    "\telse if(len2>len1){\n",
    "\t\tfor(i=0;i<len1;i++){\n",
    "\t\t\tprintf(\"%c%c\\n\",s1[i],s2[i]);\n",
    "\t\t}\n",
    "\t\tfor(i=len1;i<len2;i++){\n",
    "\t\t\tprintf(\"*%c\\n\",s2[i]);\n",
    "\t\t}\n",
    "\t}\n",
    "\treturn 0;\n",
    "}"
   ]
  },
  {
   "cell_type": "code",
   "execution_count": null,
   "metadata": {},
   "outputs": [],
   "source": [
    "App Test Working Good -- TEST"
   ]
  },
  {
   "cell_type": "code",
   "execution_count": null,
   "metadata": {},
   "outputs": [],
   "source": [
    "#include<stdio.h>\n",
    "#include<string.h>\n",
    "int main(){\n",
    "\tint len,cnt=0,i;\n",
    "\tchar x[100];\n",
    "\tscanf(\"%[^\\n]s\",x);//It will reads even white spaces as well\n",
    "\tlen = strlen(x);\n",
    "\tfor(i=0;i<len;i++){\n",
    "\t\tif(x[i]==32){\n",
    "\t\t\tcnt++;\n",
    "\t\t}\n",
    "\t\tif(cnt==1){\n",
    "\t\t\tif(x[i]>=65 && x[i]<=90){\n",
    "\t\t\t\tprintf(\"%c\",x[i]);\n",
    "\t\t\t}\n",
    "\t\t\telse if(x[i]>=97 && x[i]<=122){\n",
    "\t\t\t\tprintf(\"%c\",x[i]-32);\n",
    "\t\t\t}\n",
    "\t\t}\n",
    "\t\tif(cnt>1){\n",
    "\t\t\tbreak;\n",
    "\t\t}\n",
    "\t}\n",
    "\treturn 0;\n",
    "}"
   ]
  },
  {
   "cell_type": "code",
   "execution_count": null,
   "metadata": {},
   "outputs": [],
   "source": [
    "App Test Working Good -- APP Test WORKING Good"
   ]
  },
  {
   "cell_type": "code",
   "execution_count": null,
   "metadata": {},
   "outputs": [],
   "source": [
    "#include<stdio.h>\n",
    "#include<string.h>\n",
    "int main(){\n",
    "\tint len,cnt=0,i;\n",
    "\tchar x[100];\n",
    "\tscanf(\"%[^\\n]s\",x);//It will reads even white spaces as well\n",
    "\tlen = strlen(x);\n",
    "\tfor(i=0;i<len;i++){\n",
    "\t\tif(x[i]==32){\n",
    "\t\t\tcnt++;\n",
    "\t\t}\n",
    "\t\tif(cnt%2==0){\n",
    "\t\t\tif(x[i]>=65 && x[i]<=90){\n",
    "\t\t\t\tprintf(\"%c\",x[i]);\n",
    "\t\t\t}\n",
    "\t\t\telse if(x[i]>=97 && x[i]<=122){\n",
    "\t\t\t\tprintf(\"%c\",x[i]-32);\n",
    "\t\t\t}\n",
    "\t\t\telse{\n",
    "\t\t\t\tprintf(\" \");\n",
    "\t\t\t}\n",
    "\t\t}\n",
    "\t\telse{\n",
    "\t\t\tprintf(\"%c\",x[i]);\n",
    "\t\t}\n",
    "\t}\n",
    "\treturn 0;\n",
    "}"
   ]
  },
  {
   "cell_type": "code",
   "execution_count": null,
   "metadata": {},
   "outputs": [],
   "source": [
    "Input:-\n",
    "4\n",
    "1 2 3 4\n",
    "9 9 9 2\n",
    "1 1 1 1\n",
    "2 2 3 3\n",
    "Output:-\n",
    "<2,2>\n",
    "<1,3>\n",
    "<0,4>\n",
    "<2,2>"
   ]
  },
  {
   "cell_type": "code",
   "execution_count": null,
   "metadata": {},
   "outputs": [],
   "source": [
    "#include<stdio.h>\n",
    "#include<math.h>\n",
    "int main(){\n",
    "\tint a[10][10],n,r,c,evenCnt=0,oddCnt=0;\n",
    "\tscanf(\"%d\",&n);\n",
    "\t//Reading the values to Multi Dimensional\n",
    "\tfor(r=0;r<n;r++){\n",
    "\t\tfor(c=0;c<n;c++){\n",
    "\t\t\tscanf(\"%d\",&a[r][c]);\n",
    "\t\t}\n",
    "\t}\n",
    "\tfor(r=0;r<n;r++){\n",
    "\t\tevenCnt = oddCnt = 0;\n",
    "\t\tfor(c=0;c<n;c++){\n",
    "\t\t\tif(a[r][c]%2==0){\n",
    "\t\t\t\tevenCnt++;\n",
    "\t\t\t}\n",
    "\t\t\telse{\n",
    "\t\t\t\toddCnt++;\n",
    "\t\t\t}\n",
    "\t\t}\n",
    "\t\tprintf(\"<%d,%d>\",evenCnt,oddCnt);\n",
    "\t}\n",
    "\treturn 0;\n",
    "}"
   ]
  },
  {
   "cell_type": "code",
   "execution_count": null,
   "metadata": {},
   "outputs": [],
   "source": [
    "Input:-\n",
    "4\n",
    "1 2 3 -2\n",
    "10 11 62 32 \n",
    "0 9 1 3\n",
    "2 3 1 4\n",
    "Output:-\n",
    "<-2,3>\n",
    "<10,62>\n",
    "<0,9>\n",
    "<1,4>"
   ]
  },
  {
   "cell_type": "code",
   "execution_count": null,
   "metadata": {},
   "outputs": [],
   "source": [
    "#include<stdio.h>\n",
    "#include<math.h>\n",
    "int main(){\n",
    "\tint a[10][10],n,r,c,large,small;\n",
    "\tscanf(\"%d\",&n);\n",
    "\tfor(r=0;r<n;r++){\n",
    "\t\tfor(c=0;c<n;c++){\n",
    "\t\t\tscanf(\"%d\",&a[r][c]);\n",
    "\t\t}\n",
    "\t}\n",
    "\tfor(r=0;r<n;r++){\n",
    "\t\tsmall = large = a[r][0];\n",
    "\t\tfor(c=0;c<n;c++){\n",
    "\t\t\tif(large < a[r][c])\t{\n",
    "\t\t\t\tlarge = a[r][c];\n",
    "\t\t\t}\n",
    "\t\t\tif(small > a[r][c]){\n",
    "\t\t\t\tsmall = a[r][c];\n",
    "\t\t\t}\n",
    "\t\t}\n",
    "\t\tprintf(\"<%d,%d>\\n\",small,large);\n",
    "\t}\n",
    "\treturn 0;\n",
    "}"
   ]
  },
  {
   "cell_type": "code",
   "execution_count": null,
   "metadata": {},
   "outputs": [],
   "source": []
  },
  {
   "cell_type": "code",
   "execution_count": null,
   "metadata": {},
   "outputs": [],
   "source": []
  },
  {
   "cell_type": "code",
   "execution_count": null,
   "metadata": {},
   "outputs": [],
   "source": []
  },
  {
   "cell_type": "code",
   "execution_count": null,
   "metadata": {},
   "outputs": [],
   "source": []
  }
 ],
 "metadata": {
  "kernelspec": {
   "display_name": "Python 3",
   "language": "python",
   "name": "python3"
  },
  "language_info": {
   "codemirror_mode": {
    "name": "ipython",
    "version": 3
   },
   "file_extension": ".py",
   "mimetype": "text/x-python",
   "name": "python",
   "nbconvert_exporter": "python",
   "pygments_lexer": "ipython3",
   "version": "3.7.4"
  }
 },
 "nbformat": 4,
 "nbformat_minor": 2
}
